{
 "cells": [
  {
   "cell_type": "code",
   "execution_count": null,
   "id": "2274b6a3-a2a8-4ad6-b38c-e6e83e65b81f",
   "metadata": {
    "tags": []
   },
   "outputs": [],
   "source": [
    "pip install --upgrade google-api-python-client google-auth-httplib2 google-auth-oauthlib"
   ]
  },
  {
   "cell_type": "markdown",
   "id": "f2cfadee-5d64-45bb-b8d6-22b2a24dca07",
   "metadata": {},
   "source": [
    "# importation"
   ]
  },
  {
   "cell_type": "code",
   "execution_count": 39,
   "id": "42131709-4273-45a7-94e9-07f7c7c0ff7c",
   "metadata": {
    "tags": []
   },
   "outputs": [],
   "source": [
    "import os.path\n",
    "import base64\n",
    "import json\n",
    "import pandas as pd\n",
    "from google.auth.transport.requests import Request\n",
    "from google.oauth2.credentials import Credentials\n",
    "from google_auth_oauthlib.flow import InstalledAppFlow\n",
    "from googleapiclient.discovery import build"
   ]
  },
  {
   "cell_type": "code",
   "execution_count": 3,
   "id": "58ec4fa1-4ddb-4aa9-b9fe-7158560cf4ab",
   "metadata": {
    "tags": []
   },
   "outputs": [],
   "source": [
    "# Défénir les permissons demandées pour acceder a gmail\n",
    "SCOPES = ['https://www.googleapis.com/auth/gmail.readonly']"
   ]
  },
  {
   "cell_type": "code",
   "execution_count": 5,
   "id": "9933c069-2bd3-43a1-98ef-df9f1276fba6",
   "metadata": {
    "tags": []
   },
   "outputs": [],
   "source": [
    "def authenticate_gmail_api():\n",
    "    \"\"\"Authentifie l'utilisateur et renvoie un service API Gmail.\"\"\"\n",
    "    creds = None\n",
    "    # Le fichier token.json stocke les jetons d'accès et d'actualisation de l'utilisateur\n",
    "    if os.path.exists('token.json'):\n",
    "        creds = Credentials.from_authorized_user_file('token.json', SCOPES)\n",
    "    # Si il n'y a pas de (valide) jetons disponibles, laissez l'utilisateur se connecter.\n",
    "    if not creds or not creds.valid:\n",
    "        if creds and creds.expired and creds.refresh_token:\n",
    "            creds.refresh(Request())\n",
    "        else:\n",
    "            flow = InstalledAppFlow.from_client_secrets_file('../credentials.json', SCOPES)\n",
    "            creds = flow.run_local_server(port=8081)\n",
    "        # Enregistrer les jetons pour la prochaine exécution\n",
    "        with open('token.json', 'w') as token:\n",
    "            token.write(creds.to_json())\n",
    "    # Construire le service Gmail\n",
    "    service = build('gmail', 'v1', credentials=creds)\n",
    "    return service"
   ]
  },
  {
   "cell_type": "code",
   "execution_count": 11,
   "id": "1e201119-66dd-4d46-b6be-b84dd9b09cf4",
   "metadata": {},
   "outputs": [
    {
     "name": "stdout",
     "output_type": "stream",
     "text": [
      "Please visit this URL to authorize this application: https://accounts.google.com/o/oauth2/auth?response_type=code&client_id=455190904108-7neb8q48h71eg7jqclts7n6kopf6hsi6.apps.googleusercontent.com&redirect_uri=http%3A%2F%2Flocalhost%3A8081%2F&scope=https%3A%2F%2Fwww.googleapis.com%2Fauth%2Fgmail.readonly&state=GTUapnSkiQMogylIE2FxDkdL5HTA7o&access_type=offline\n"
     ]
    }
   ],
   "source": [
    "service = authenticate_gmail_api()"
   ]
  },
  {
   "cell_type": "code",
   "execution_count": 85,
   "id": "1fbd999b-0a37-44f1-9da2-8ba8af4ff65b",
   "metadata": {
    "tags": []
   },
   "outputs": [],
   "source": [
    "def get_email_json(service, max_results=1):\n",
    "    results = service.users().messages().list(\n",
    "         userId='me', labelIds=['INBOX'], maxResults=max_results\n",
    "    ).execute()\n",
    "    messages = results.get('messages', [])\n",
    "    \n",
    "    for message in messages:\n",
    "            msg = service.users().messages().get(userId='me', id=message['id']).execute()\n",
    "            print(json.dumps(msg, indent=2))\n",
    "    \n",
    "    return messages\n",
    "    "
   ]
  },
  {
   "cell_type": "code",
   "execution_count": null,
   "id": "efeb6357-51c2-47a9-bd97-0fce42536db1",
   "metadata": {
    "tags": []
   },
   "outputs": [],
   "source": [
    "json = get_email_json(service)"
   ]
  },
  {
   "cell_type": "code",
   "execution_count": 125,
   "id": "0a82bb06-407a-44fa-8c6c-c63a3ffd89c7",
   "metadata": {
    "tags": []
   },
   "outputs": [],
   "source": [
    "def get_message_body(payload):\n",
    "    \"\"\"Récupère et décode le corps du message.\"\"\"\n",
    "    body = ''\n",
    "    if 'body' in payload and 'data' in payload['body']:\n",
    "        body = base64.urlsafe_b64decode(payload['body']['data'].encode('ASCII')).decode('UTF-8')\n",
    "    elif 'parts' in payload:\n",
    "        for part in payload['parts']:\n",
    "            body += get_message_body(part)\n",
    "    return body\n"
   ]
  },
  {
   "cell_type": "code",
   "execution_count": 155,
   "id": "a7193821-6aa1-449d-860c-71faeacdce54",
   "metadata": {
    "tags": []
   },
   "outputs": [],
   "source": [
    "def get_email_info(service, label_id, max_results=400):\n",
    "    \"\"\"Récupère les informations des emails pour un label donné.\"\"\"\n",
    "    try:\n",
    "        email_infos = []\n",
    "        next_page_token = None\n",
    "\n",
    "        while len(email_infos) < max_results:\n",
    "            results = service.users().messages().list(\n",
    "                userId='me', labelIds=[label_id], maxResults=100, pageToken=next_page_token\n",
    "            ).execute()\n",
    "            messages = results.get('messages', [])\n",
    "\n",
    "            if not messages:\n",
    "                print(f'No more messages found.')\n",
    "                break\n",
    "\n",
    "            for message in messages:\n",
    "                msg = service.users().messages().get(userId='me', id=message['id']).execute()\n",
    "\n",
    "                # Récupération des informations du message\n",
    "                headers = msg['payload']['headers']\n",
    "                snippet = msg.get('snippet', '')\n",
    "\n",
    "                from_email = next(header['value'] for header in headers if header['name'] == 'From')\n",
    "                subject = next((header['value'] for header in headers if header['name'] == 'Subject'), '(No Subject)')\n",
    "                labels = msg.get('labelIds', [])\n",
    "                has_attachment = 'parts' in msg['payload']\n",
    "                body = get_message_body(msg['payload'])  \n",
    "                message_length = len(body)\n",
    "\n",
    "                email_info = {\n",
    "                    'From': from_email,\n",
    "                    'Subject': subject,\n",
    "                    'Snippet': snippet,\n",
    "                    'Labels': labels,\n",
    "                    'Has Attachments': has_attachment,                    \n",
    "                    'Message Length': message_length\n",
    "                    \n",
    "                }\n",
    "\n",
    "                email_infos.append(email_info)\n",
    "                if len(email_infos) >= max_results:\n",
    "                    break\n",
    "\n",
    "            next_page_token = results.get('nextPageToken')\n",
    "            if not next_page_token:\n",
    "                break\n",
    "\n",
    "        return email_infos\n",
    "\n",
    "    except Exception as error:\n",
    "        print(f'An error occurred: {error}')"
   ]
  },
  {
   "cell_type": "code",
   "execution_count": 157,
   "id": "60af98d9-e0db-4028-bce5-5f3ca17f8de2",
   "metadata": {
    "tags": []
   },
   "outputs": [],
   "source": [
    "inbox_emails = get_email_info(service, 'INBOX')"
   ]
  },
  {
   "cell_type": "code",
   "execution_count": 141,
   "id": "9c17e1b4-bd22-44c0-83ce-2bbfff5d8570",
   "metadata": {
    "tags": []
   },
   "outputs": [],
   "source": [
    "spam_emails = get_email_info(service, 'SPAM')"
   ]
  },
  {
   "cell_type": "code",
   "execution_count": 159,
   "id": "a5c2c7a5-3ea8-4d88-b32c-6fbfb2331c4e",
   "metadata": {
    "tags": []
   },
   "outputs": [],
   "source": [
    "df_inbox = pd.DataFrame(inbox_emails)"
   ]
  },
  {
   "cell_type": "code",
   "execution_count": 145,
   "id": "94c2ae84-69a5-4016-aa67-a3714939de09",
   "metadata": {
    "tags": []
   },
   "outputs": [],
   "source": [
    "df_spam = pd.DataFrame(spam_emails)"
   ]
  },
  {
   "cell_type": "code",
   "execution_count": 147,
   "id": "0c227401-8415-432f-807b-18aa30e95608",
   "metadata": {
    "tags": []
   },
   "outputs": [],
   "source": [
    "df = pd.concat([df_inbox, df_spam])"
   ]
  },
  {
   "cell_type": "code",
   "execution_count": 151,
   "id": "05b1a470-ab20-48d0-a4f9-fe00334d5974",
   "metadata": {
    "tags": []
   },
   "outputs": [],
   "source": [
    "df.index=range(len(df))"
   ]
  },
  {
   "cell_type": "code",
   "execution_count": 153,
   "id": "36d89da5-9211-4eb3-a304-d18f58dcd89e",
   "metadata": {
    "tags": []
   },
   "outputs": [
    {
     "data": {
      "text/html": [
       "<div>\n",
       "<style scoped>\n",
       "    .dataframe tbody tr th:only-of-type {\n",
       "        vertical-align: middle;\n",
       "    }\n",
       "\n",
       "    .dataframe tbody tr th {\n",
       "        vertical-align: top;\n",
       "    }\n",
       "\n",
       "    .dataframe thead th {\n",
       "        text-align: right;\n",
       "    }\n",
       "</style>\n",
       "<table border=\"1\" class=\"dataframe\">\n",
       "  <thead>\n",
       "    <tr style=\"text-align: right;\">\n",
       "      <th></th>\n",
       "      <th>From</th>\n",
       "      <th>Subject</th>\n",
       "      <th>Snippet</th>\n",
       "      <th>Labels</th>\n",
       "      <th>Has Attachments</th>\n",
       "      <th>Message Length</th>\n",
       "    </tr>\n",
       "  </thead>\n",
       "  <tbody>\n",
       "    <tr>\n",
       "      <th>0</th>\n",
       "      <td>Typology Paris &lt;no-reply@typology.com&gt;</td>\n",
       "      <td>Votre prescription personnalisée</td>\n",
       "      <td>Découvrez vos résultats ͏ ͏ ͏ ͏ ͏ ͏ ͏ ͏ ͏ ͏ ͏ ...</td>\n",
       "      <td>[UNREAD, CATEGORY_UPDATES, INBOX]</td>\n",
       "      <td>True</td>\n",
       "      <td>38172</td>\n",
       "    </tr>\n",
       "    <tr>\n",
       "      <th>1</th>\n",
       "      <td>LinkedIn &lt;notifications-noreply@linkedin.com&gt;</td>\n",
       "      <td>Vous apparaissez dans 9 recherches</td>\n",
       "      <td>Des personnes recherchent vos compétences ͏ ͏ ...</td>\n",
       "      <td>[UNREAD, CATEGORY_SOCIAL, INBOX]</td>\n",
       "      <td>True</td>\n",
       "      <td>30467</td>\n",
       "    </tr>\n",
       "    <tr>\n",
       "      <th>2</th>\n",
       "      <td>Typology Paris &lt;no-reply@typology.com&gt;</td>\n",
       "      <td>Votre prescription est prête</td>\n",
       "      <td>Découvrez votre routine personnalisée ͏ ͏ ͏ ͏ ...</td>\n",
       "      <td>[UNREAD, IMPORTANT, CATEGORY_UPDATES, INBOX]</td>\n",
       "      <td>True</td>\n",
       "      <td>36211</td>\n",
       "    </tr>\n",
       "    <tr>\n",
       "      <th>3</th>\n",
       "      <td>France travail &lt;Service-candidat@pole-emploi.fr&gt;</td>\n",
       "      <td>Vous avez reçu un courrier \" Relevé de situati...</td>\n",
       "      <td>France Travail Candidat Bonjour, Vous avez reç...</td>\n",
       "      <td>[CATEGORY_UPDATES, INBOX]</td>\n",
       "      <td>False</td>\n",
       "      <td>6846</td>\n",
       "    </tr>\n",
       "    <tr>\n",
       "      <th>4</th>\n",
       "      <td>Typology Paris &lt;no-reply@typology.com&gt;</td>\n",
       "      <td>Typologie AE(-) : Ce qu’ils pensent de nos pro...</td>\n",
       "      <td>Leurs avis valent toutes les recommandations. ...</td>\n",
       "      <td>[CATEGORY_PROMOTIONS, UNREAD, INBOX]</td>\n",
       "      <td>True</td>\n",
       "      <td>41375</td>\n",
       "    </tr>\n",
       "    <tr>\n",
       "      <th>...</th>\n",
       "      <td>...</td>\n",
       "      <td>...</td>\n",
       "      <td>...</td>\n",
       "      <td>...</td>\n",
       "      <td>...</td>\n",
       "      <td>...</td>\n",
       "    </tr>\n",
       "    <tr>\n",
       "      <th>229</th>\n",
       "      <td>\"'GLS-France'\" &lt;uMLdooGT@rumzg.fr&gt;</td>\n",
       "      <td>melanie.picot01: 📦 Commande en attente (1). Vo...</td>\n",
       "      <td>𝗡𝗼𝘁𝗶𝗳𝗶𝗰𝗮𝘁𝗶𝗼𝗻 𝗱𝗲 𝘀𝘂𝗶𝘃𝗶 𝗱𝗲 𝗹𝗮 𝗹𝗶𝘃𝗿𝗮𝗶𝘀𝗼𝗻 𝗱𝗲 𝘃𝗼𝘁𝗿𝗲...</td>\n",
       "      <td>[UNREAD, CATEGORY_PERSONAL, SPAM]</td>\n",
       "      <td>False</td>\n",
       "      <td>28050</td>\n",
       "    </tr>\n",
       "    <tr>\n",
       "      <th>230</th>\n",
       "      <td>\"ᴛᴇɴᴛᴀᴛɪᴠᴇ ᴅᴇ ʟɪᴠʀᴀɪsᴏɴ\" &lt;iiEdXqjW@iiedxqjw.us&gt;</td>\n",
       "      <td>ᴍɪsᴇ ᴀ̀ ᴊᴏᴜʀ ᴅᴇ ʟᴀ ʟɪᴠʀᴀɪsᴏɴ : ᴠᴏᴛʀᴇ ʟɪᴠʀᴀɪsᴏɴ...</td>\n",
       "      <td>GLS. Bonjour melanie.picot01, Vous avez (1) co...</td>\n",
       "      <td>[UNREAD, CATEGORY_PERSONAL, SPAM]</td>\n",
       "      <td>True</td>\n",
       "      <td>25732</td>\n",
       "    </tr>\n",
       "    <tr>\n",
       "      <th>231</th>\n",
       "      <td>chrono-poste-express &lt;MfKqNMmy@gdnoclslu.us&gt;</td>\n",
       "      <td>melanie.picot01, Vous avez (1) message de notr...</td>\n",
       "      <td>𝗡𝗼𝘁𝗶𝗳𝗶𝗰𝗮𝘁𝗶𝗼𝗻 𝗱𝗲 𝘀𝘂𝗶𝘃𝗶 𝗱𝗲 𝗹𝗮 𝗹𝗶𝘃𝗿𝗮𝗶𝘀𝗼𝗻 𝗱𝗲 𝘃𝗼𝘁𝗿𝗲...</td>\n",
       "      <td>[UNREAD, CATEGORY_PERSONAL, SPAM]</td>\n",
       "      <td>False</td>\n",
       "      <td>26103</td>\n",
       "    </tr>\n",
       "    <tr>\n",
       "      <th>232</th>\n",
       "      <td>\"Emma de Gsm55.com\" &lt;emma@newsletter.gsm55.com&gt;</td>\n",
       "      <td>🌞 Soldes sur notre TOP de l'été</td>\n",
       "      <td>Coques cordons, étuis waterproof, powerbank, a...</td>\n",
       "      <td>[CATEGORY_PROMOTIONS, UNREAD, SPAM]</td>\n",
       "      <td>True</td>\n",
       "      <td>97254</td>\n",
       "    </tr>\n",
       "    <tr>\n",
       "      <th>233</th>\n",
       "      <td>chrono-poste-express &lt;aaQrLJij@orgvihhcl.us&gt;</td>\n",
       "      <td>melanie.picot01, Vous avez (1) message de notr...</td>\n",
       "      <td>𝗡𝗼𝘁𝗶𝗳𝗶𝗰𝗮𝘁𝗶𝗼𝗻 𝗱𝗲 𝘀𝘂𝗶𝘃𝗶 𝗱𝗲 𝗹𝗮 𝗹𝗶𝘃𝗿𝗮𝗶𝘀𝗼𝗻 𝗱𝗲 𝘃𝗼𝘁𝗿𝗲...</td>\n",
       "      <td>[UNREAD, CATEGORY_PERSONAL, SPAM]</td>\n",
       "      <td>False</td>\n",
       "      <td>27911</td>\n",
       "    </tr>\n",
       "  </tbody>\n",
       "</table>\n",
       "<p>234 rows × 6 columns</p>\n",
       "</div>"
      ],
      "text/plain": [
       "                                                 From  \\\n",
       "0              Typology Paris <no-reply@typology.com>   \n",
       "1       LinkedIn <notifications-noreply@linkedin.com>   \n",
       "2              Typology Paris <no-reply@typology.com>   \n",
       "3    France travail <Service-candidat@pole-emploi.fr>   \n",
       "4              Typology Paris <no-reply@typology.com>   \n",
       "..                                                ...   \n",
       "229                \"'GLS-France'\" <uMLdooGT@rumzg.fr>   \n",
       "230   \"ᴛᴇɴᴛᴀᴛɪᴠᴇ ᴅᴇ ʟɪᴠʀᴀɪsᴏɴ\" <iiEdXqjW@iiedxqjw.us>   \n",
       "231      chrono-poste-express <MfKqNMmy@gdnoclslu.us>   \n",
       "232   \"Emma de Gsm55.com\" <emma@newsletter.gsm55.com>   \n",
       "233      chrono-poste-express <aaQrLJij@orgvihhcl.us>   \n",
       "\n",
       "                                               Subject  \\\n",
       "0                     Votre prescription personnalisée   \n",
       "1                   Vous apparaissez dans 9 recherches   \n",
       "2                         Votre prescription est prête   \n",
       "3    Vous avez reçu un courrier \" Relevé de situati...   \n",
       "4    Typologie AE(-) : Ce qu’ils pensent de nos pro...   \n",
       "..                                                 ...   \n",
       "229  melanie.picot01: 📦 Commande en attente (1). Vo...   \n",
       "230  ᴍɪsᴇ ᴀ̀ ᴊᴏᴜʀ ᴅᴇ ʟᴀ ʟɪᴠʀᴀɪsᴏɴ : ᴠᴏᴛʀᴇ ʟɪᴠʀᴀɪsᴏɴ...   \n",
       "231  melanie.picot01, Vous avez (1) message de notr...   \n",
       "232                    🌞 Soldes sur notre TOP de l'été   \n",
       "233  melanie.picot01, Vous avez (1) message de notr...   \n",
       "\n",
       "                                               Snippet  \\\n",
       "0    Découvrez vos résultats ͏ ͏ ͏ ͏ ͏ ͏ ͏ ͏ ͏ ͏ ͏ ...   \n",
       "1    Des personnes recherchent vos compétences ͏ ͏ ...   \n",
       "2    Découvrez votre routine personnalisée ͏ ͏ ͏ ͏ ...   \n",
       "3    France Travail Candidat Bonjour, Vous avez reç...   \n",
       "4    Leurs avis valent toutes les recommandations. ...   \n",
       "..                                                 ...   \n",
       "229  𝗡𝗼𝘁𝗶𝗳𝗶𝗰𝗮𝘁𝗶𝗼𝗻 𝗱𝗲 𝘀𝘂𝗶𝘃𝗶 𝗱𝗲 𝗹𝗮 𝗹𝗶𝘃𝗿𝗮𝗶𝘀𝗼𝗻 𝗱𝗲 𝘃𝗼𝘁𝗿𝗲...   \n",
       "230  GLS. Bonjour melanie.picot01, Vous avez (1) co...   \n",
       "231  𝗡𝗼𝘁𝗶𝗳𝗶𝗰𝗮𝘁𝗶𝗼𝗻 𝗱𝗲 𝘀𝘂𝗶𝘃𝗶 𝗱𝗲 𝗹𝗮 𝗹𝗶𝘃𝗿𝗮𝗶𝘀𝗼𝗻 𝗱𝗲 𝘃𝗼𝘁𝗿𝗲...   \n",
       "232  Coques cordons, étuis waterproof, powerbank, a...   \n",
       "233  𝗡𝗼𝘁𝗶𝗳𝗶𝗰𝗮𝘁𝗶𝗼𝗻 𝗱𝗲 𝘀𝘂𝗶𝘃𝗶 𝗱𝗲 𝗹𝗮 𝗹𝗶𝘃𝗿𝗮𝗶𝘀𝗼𝗻 𝗱𝗲 𝘃𝗼𝘁𝗿𝗲...   \n",
       "\n",
       "                                           Labels  Has Attachments  \\\n",
       "0               [UNREAD, CATEGORY_UPDATES, INBOX]             True   \n",
       "1                [UNREAD, CATEGORY_SOCIAL, INBOX]             True   \n",
       "2    [UNREAD, IMPORTANT, CATEGORY_UPDATES, INBOX]             True   \n",
       "3                       [CATEGORY_UPDATES, INBOX]            False   \n",
       "4            [CATEGORY_PROMOTIONS, UNREAD, INBOX]             True   \n",
       "..                                            ...              ...   \n",
       "229             [UNREAD, CATEGORY_PERSONAL, SPAM]            False   \n",
       "230             [UNREAD, CATEGORY_PERSONAL, SPAM]             True   \n",
       "231             [UNREAD, CATEGORY_PERSONAL, SPAM]            False   \n",
       "232           [CATEGORY_PROMOTIONS, UNREAD, SPAM]             True   \n",
       "233             [UNREAD, CATEGORY_PERSONAL, SPAM]            False   \n",
       "\n",
       "     Message Length  \n",
       "0             38172  \n",
       "1             30467  \n",
       "2             36211  \n",
       "3              6846  \n",
       "4             41375  \n",
       "..              ...  \n",
       "229           28050  \n",
       "230           25732  \n",
       "231           26103  \n",
       "232           97254  \n",
       "233           27911  \n",
       "\n",
       "[234 rows x 6 columns]"
      ]
     },
     "execution_count": 153,
     "metadata": {},
     "output_type": "execute_result"
    }
   ],
   "source": [
    "df"
   ]
  },
  {
   "cell_type": "code",
   "execution_count": null,
   "id": "dcdd7b85-023c-4159-92cc-65c47f58ed77",
   "metadata": {},
   "outputs": [],
   "source": []
  }
 ],
 "metadata": {
  "kernelspec": {
   "display_name": "Python 3 (ipykernel)",
   "language": "python",
   "name": "python3"
  },
  "language_info": {
   "codemirror_mode": {
    "name": "ipython",
    "version": 3
   },
   "file_extension": ".py",
   "mimetype": "text/x-python",
   "name": "python",
   "nbconvert_exporter": "python",
   "pygments_lexer": "ipython3",
   "version": "3.11.7"
  }
 },
 "nbformat": 4,
 "nbformat_minor": 5
}
